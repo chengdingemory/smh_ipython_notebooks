{
 "metadata": {
  "name": "",
  "signature": "sha256:bbd38e2bd8e34420e5a551ae10cff1318cee59cf896745b8ca4cc6e15775f338"
 },
 "nbformat": 3,
 "nbformat_minor": 0,
 "worksheets": [
  {
   "cells": [
    {
     "cell_type": "heading",
     "level": 1,
     "metadata": {},
     "source": [
      "Writing About Your Data"
     ]
    },
    {
     "cell_type": "markdown",
     "metadata": {},
     "source": [
      "`\n",
      "Author: Samuel M.H. <samuel.mh@gmail.com>\n",
      "Date: 21-01-2016\n",
      "`"
     ]
    },
    {
     "cell_type": "markdown",
     "metadata": {},
     "source": [
      "##Instructions\n",
      "\n",
      "It\u2019s important to know how the data set you\u2019re working with was generated, and how to describe your data management steps to others. This week\u2019s assignment is to submit a blog entry in which you describe 1) your sample, 2) the data collection procedure, and 3) a measures section describing your variables and how you managed them to address your own research question. All of the data sets provided for the course have web sites that describe the study sample and the procedures used to collect the data. A simple Google search for the name of the study/data set will give you the link to the study web sites.\n",
      "\n",
      "##What to submit:\n",
      "\n",
      "Following completion of the steps described above, create a blog entry and submit the URL. In your blog entry, you should describe your sample, the data collection procedure, and how you managed your data."
     ]
    },
    {
     "cell_type": "markdown",
     "metadata": {},
     "source": [
      "---"
     ]
    },
    {
     "cell_type": "markdown",
     "metadata": {},
     "source": [
      "## Sample\n",
      "\n",
      "The dataset used is the [National Epidemiologic Survey on Alcohol and Related Conditions](http://pubs.niaaa.nih.gov/publications/arh29-2/74-78.htm), also known as NESARC.\n",
      "\n",
      "In 2001/2002, the National Institute on Alcohol Abuse and Alcoholism (NIAAA) conducted the National Epidemiologic Survey on Alcohol and Related Conditions (NESARC), the largest and most ambitious comorbidity study ever conducted. \n",
      "\n",
      "The unprecedented sample size of NESARC (n = 43,093) made it possible to achieve stable estimates of even rare conditions. Moreover, its oversampling of Blacks and Hispanics as well as the inclusion of Hawaii and Alaska in its sampling frame yielded enough minority respondents to make NESARC an ideal vehicle for addressing the critical issue of race and/or ethnic disparities in comorbidity and access to health care services.\n",
      "\n",
      "NESARC\u2019s diagnostic classifications were based on the Alcohol Use Disorder and Associated Disability Interview Schedule\u2013DSM\u2013IV Version (AUDADIS\u2013 IV), a state-of-the-art, semistructured diagnostic interview schedule designed for use by lay interviewers. The reliability and validity of this instrument have been documented in a wide range of international settings, using both general population and clinical samples (for an extensive list of publications on reliability and validity, see the data notes section of the NESARC Web site)."
     ]
    },
    {
     "cell_type": "markdown",
     "metadata": {},
     "source": [
      "## Procedure\n",
      " The NESARC longitudinal survey consists of a first wave (Wave 1), which was conducted from 2001 to 2002, and a second wave (Wave 2), which was conducted from 2004 to 2005. The NESARC sample represents the civilian, noninstitutionalized adult population of the United States, including residents of the District of Columbia, Alaska, and Hawaii. It includes people living in households, military personnel living off base, and people residing in the following group quarters: boarding or rooming houses, nontransient hotels and motels, shelters, facilities for housing workers, college quarters, and group homes. All potential NESARC respondents were informed in writing about the nature of the survey, the statistical uses of the survey data, the voluntary aspect of their participation, and the Federal laws that rigorously provide for the confidentiality of identifiable survey information. Respondents who consented to participate after receiving this information were interviewed. The research protocol, including informed-consent procedures, received full ethical review and approval from the U.S. Census Bureau and the U.S. Office of Management and Budget.\n",
      "\n",
      "Data were collected in face-to-face, computer-assisted personal interviews conducted in respondents\u2019 homes. The NESARC response rate was 81 percent. "
     ]
    },
    {
     "cell_type": "markdown",
     "metadata": {},
     "source": [
      "\n",
      "## Measures\n",
      "In addition to an extensive battery of questions addressing present and past alcohol consumption, alcohol use disorders (AUDs), and utilization of alcohol treatment services, NESARC included similar sets of questions related to tobacco and illicit drug use (including nicotine dependence and drug use disorders). Furthermore, NESARC contained questions that operationalized the criteria set forth in the American Psychiatric Association\u2019s Diagnostic and Statistical Manual of Mental Disorders, Fourth Edition (DSM\u2013IV) for the following psychiatric disorders:\n",
      "\n",
      "* Five mood disorders (major depressive disorder, bipolar I and bipolar II disorders, dysthymia, and hypomania)\n",
      "\n",
      "* Four anxiety disorders (panic with and without agoraphobia, social phobia, specific phobia, and generalized anxiety)\n",
      "\n",
      "* Seven personality disorders (avoidant, dependent, obsessive\u2013compulsive, paranoid, schizoid, histrionic, and antisocial disorders).\n",
      "\n",
      "The dataset contains both numerical (height, weight, number of brothers who were ever depressed) and categorical (race, if often felt hopeless...) variables."
     ]
    },
    {
     "cell_type": "markdown",
     "metadata": {},
     "source": [
      "## Availabilitiy of Wave 1 and Wave 2 NESARC data\n",
      "\n",
      "Data from Wave 1 of NESARC are available for downloading on the NESARC Web site at http://niaaa.census.gov. The Web site also has an online copy of the Wave 1 instrument, including flashcards containing response categories that were shown to the respondents, a full data tape codebook, a program to read the data into a SAS file, details of survey methodology, and a list of publications based on Wave 1 NESARC. Each respondent on the data file has been assigned a unique identifier. After Wave 2 NESARC data have been collected, cleaned, and placed on the Web site for public use, this identifier will be used to link the data from Waves 1 and 2.\n",
      "\n",
      "Wave 2 NESARC differs from Wave 1 in several important ways:\n",
      "\n",
      "* Whereas Wave 1 focused on the respondents\u2019 entire lifetime up to the point of the interview (distinguishing the past year and the period prior to the past year), Wave 2 focuses only on the period since the Wave 1 interview (again distinguishing the past year from the period since the last interview but prior to the past year).\n",
      "\n",
      "* Wave 2 adds questions for classifying several additional mental disorders, including post-traumatic stress disorder; attention deficit\u2013hyperactivity disorder; and narcissistic, borderline, and schizotypal personality disorders.\n",
      "\n",
      "* Wave 2 includes questions designed to measure sexual orientation, adverse childhood events (e.g., sexual abuse), childhood and partner abuse (physical, sexual, and psychological), social integration, and acculturation.\n",
      "\n",
      "* Wave 2 adds numerous questions addressing perceived experiences of discrimination on the basis of gender, race/ethnicity, disability, sexual orientation, and weight."
     ]
    }
   ],
   "metadata": {}
  }
 ]
}