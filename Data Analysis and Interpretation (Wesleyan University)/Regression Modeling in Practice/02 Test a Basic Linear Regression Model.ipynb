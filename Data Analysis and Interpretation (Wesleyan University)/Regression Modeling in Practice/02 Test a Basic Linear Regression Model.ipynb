{
 "metadata": {
  "name": "",
  "signature": "sha256:7e7a654c8081147ba5c6afef526c454e1a2a83f4a9a266278cd651abc4e82e2a"
 },
 "nbformat": 3,
 "nbformat_minor": 0,
 "worksheets": [
  {
   "cells": [
    {
     "cell_type": "heading",
     "level": 1,
     "metadata": {},
     "source": [
      "Test a Basic Linear Regression Model"
     ]
    },
    {
     "cell_type": "markdown",
     "metadata": {},
     "source": [
      "`\n",
      "Author: Samuel M.H. <samuel.mh@gmail.com>\n",
      "Date: 28-02-2016\n",
      "`"
     ]
    },
    {
     "cell_type": "markdown",
     "metadata": {},
     "source": [
      "## Instructions\n",
      "\n",
      "This week's assignment asks you to test a basic linear regression model for the association between your primary explanatory variable and a response variable, and to create a blog entry describing your results.\n",
      "\n",
      "### Data preparation for this assignment:\n",
      "\n",
      "1. If your explanatory variable is categorical with more than two categories, you will need to collapse it down to two categories, or subset your data to select observations from 2 categories (next week you'll learn how to analyze categorical explanatory variable with more than 2 categories).\n",
      "\n",
      "2. If your response variable is categorical, you will need to identify a quantitative variable in the data set that you can use as a response variable for this assignment. Variables with response scales with 4-5 values that represent a change in magnitude (for example, \"strongly disagree to strongly agree\", \"never to often\") can be considered quantitative for the assignment.\n",
      "\n",
      "### The assignment:\n",
      "\n",
      "1. If you have a categorical explanatory variable, make sure one of your categories is coded \"0\" and generate a frequency table for this variable to check your coding. If you have a quantitative explanatory variable, center it so that the mean = 0 (or really close to 0) by subtracting the mean, and then calculate the mean to check your centering.\n",
      "\n",
      "2. Test a linear regression model and summarize the results in a couple of sentences. Make sure to include statistical results (regression coefficients and p-values) in your summary.\n",
      "\n",
      "## What to submit\n",
      "Create a blog entry where you 1) post your program and output, and 2) post a frequency table for your (recoded) categorical explanatory variable or report the mean for your centered explanatory variable. 3) Write a few sentences describing the results of your linear regression analysis."
     ]
    },
    {
     "cell_type": "markdown",
     "metadata": {},
     "source": [
      "---"
     ]
    },
    {
     "cell_type": "markdown",
     "metadata": {},
     "source": [
      "## Intro\n",
      "In this exercise I will test the association between the age at which a person gets married for the first time and the alcohol they consumed during last year.\n",
      "\n",
      "\n",
      "## Dataset\n",
      "* National Epidemiological Survey on Alcohol and Related Conditions (NESARC)\n",
      "* [CSV file](https://d396qusza40orc.cloudfront.net/phoenixassets/data-management-visualization/nesarc_pds.csv)\n",
      "* [File description](https://d396qusza40orc.cloudfront.net/phoenixassets/data-management-visualization/NESARC%20Wave%201%20Code%20Book%20w%20toc.pdf)\n",
      "\n",
      "### Variables\n",
      "* **Explanatory**: S1Q4A, age at first marriage.\n",
      "    * Quantitative: 14-94 years, 31794 samples\n",
      "    * Unknown values (99) and never married people are discarded.\n",
      "* **Response**:  ETOTLCA2, average daily volume of ethanol consumed in past year, from all types of alcoholic beverages combined.\n",
      "    * Quantitative: 0.0003-219.955 oz. ethanol/day\n",
      "    * Unkwnown values are discarded observations. Could be mapped to the mean, but don't add much."
     ]
    },
    {
     "cell_type": "code",
     "collapsed": false,
     "input": [
      "%matplotlib inline\n",
      "\n",
      "import numpy as np\n",
      "import pandas as pd\n",
      "import statsmodels.formula.api as smf\n",
      "import seaborn as sns\n",
      "import matplotlib.pyplot as plt\n",
      "#import scipy"
     ],
     "language": "python",
     "metadata": {},
     "outputs": [],
     "prompt_number": 2
    },
    {
     "cell_type": "markdown",
     "metadata": {},
     "source": [
      "## Data"
     ]
    },
    {
     "cell_type": "code",
     "collapsed": false,
     "input": [
      "# Load data\n",
      "data = pd.read_csv('../datasets/NESARC/nesarc_pds.csv', usecols=['S1Q4A','ETOTLCA2'])\n",
      "\n",
      "# Custom dataframe\n",
      "df = pd.DataFrame()\n",
      "df['AGE'] = data['S1Q4A'].replace(' ',np.NaN).replace('99',np.NaN).astype(float)\n",
      "df['ALCOHOL'] = data['ETOTLCA2'].replace(' ',np.NaN).astype(float)\n",
      "df = df.dropna()\n",
      "\n",
      "# Center the explanatory variable\n",
      "print('Original')\n",
      "print(df.describe())\n",
      "df['AGE'] = df['AGE']- df['AGE'].mean()\n",
      "print('\\n\\nCentered AGE')\n",
      "print(df.describe())"
     ],
     "language": "python",
     "metadata": {},
     "outputs": [
      {
       "output_type": "stream",
       "stream": "stdout",
       "text": [
        "Original\n",
        "                AGE       ALCOHOL\n",
        "count  19277.000000  19277.000000\n",
        "mean      23.456710      0.494287\n",
        "std        5.161488      2.034222\n",
        "min       14.000000      0.000300\n",
        "25%       20.000000      0.014700\n",
        "50%       22.000000      0.094500\n",
        "75%       26.000000      0.453100\n",
        "max       65.000000    219.955500\n",
        "\n",
        "\n",
        "Centered AGE\n",
        "                AGE       ALCOHOL\n",
        "count  1.927700e+04  19277.000000\n",
        "mean   3.066720e-16      0.494287\n",
        "std    5.161488e+00      2.034222\n",
        "min   -9.456710e+00      0.000300\n",
        "25%   -3.456710e+00      0.014700\n",
        "50%   -1.456710e+00      0.094500\n",
        "75%    2.543290e+00      0.453100\n",
        "max    4.154329e+01    219.955500\n"
       ]
      }
     ],
     "prompt_number": 3
    },
    {
     "cell_type": "markdown",
     "metadata": {},
     "source": [
      "We see the final population contains 19277 samples and the AGE variable has been centered, zero mean."
     ]
    },
    {
     "cell_type": "markdown",
     "metadata": {},
     "source": [
      "### Outliers\n",
      "In order to improve the generalization an obtain better results, I will perform an analysis of the outliers.\n",
      "\n",
      "These are the boxplots:"
     ]
    },
    {
     "cell_type": "code",
     "collapsed": false,
     "input": [
      "# Boxplots\n",
      "fig, (ax1,ax2)= plt.subplots(1,2)\n",
      "bp_age = sns.boxplot(x='AGE',data=df, whis=1.5, orient='v', ax=ax1)\n",
      "bp_alcohol = sns.boxplot(x='ALCOHOL',data=df, whis=1.5, orient='v', ax=(ax2))\n",
      "plt.subplots_adjust(bottom=0.1, right=1.8, top=1.5)\n",
      "fig.show()"
     ],
     "language": "python",
     "metadata": {},
     "outputs": [
      {
       "metadata": {},
       "output_type": "display_data",
       "png": "[encoded data removed]",
       "text": [
        "<matplotlib.figure.Figure at 0x7f6aa5fb7390>"
       ]
      }
     ],
     "prompt_number": 5
    },
    {
     "cell_type": "markdown",
     "metadata": {},
     "source": [
      "It is possible to see that there are several [outliers](https://en.wikipedia.org/wiki/Outlier) in the AGE variable as well as in the ALCOHOL one. The procedure will be calculating the [interquartile range](https://en.wikipedia.org/wiki/Interquartile_range) and discarding the observations greater than 1.5 these values (the blue points).\n",
      "\n",
      "Values $v$ that satisfy any of these properties are discarded:\n",
      "$$\n",
      "v_{max} > Q_3 + 1.5 (Q_3-Q_1)\\\\\n",
      "v_{min} < Q_1 - 1.5 (Q_3-Q_1)\n",
      "$$"
     ]
    },
    {
     "cell_type": "code",
     "collapsed": false,
     "input": [
      "#Calculate minimum and maximum values for outliers\n",
      "def outlier_limits(data, whis=1.5):\n",
      "    q3 = np.percentile(data, 75)\n",
      "    q1 = np.percentile(data, 25)\n",
      "    iqr = q3-q1\n",
      "    return(\n",
      "        q1-(whis*iqr),\n",
      "        q3+(whis*iqr),\n",
      "    )"
     ],
     "language": "python",
     "metadata": {},
     "outputs": [],
     "prompt_number": 6
    },
    {
     "cell_type": "code",
     "collapsed": false,
     "input": [
      "# Outlier limits\n",
      "print('Allowed ranges')\n",
      "print('{0} < AGE < {1}'.format(*outlier_limits(df['AGE'])))\n",
      "print('{0} < ALCOHOL < {1}'.format(*outlier_limits(df['ALCOHOL'])))"
     ],
     "language": "python",
     "metadata": {},
     "outputs": [
      {
       "output_type": "stream",
       "stream": "stdout",
       "text": [
        "Allowed ranges\n",
        "-12.456710069 < AGE < 11.543289931\n",
        "-0.6429 < ALCOHOL < 1.1107\n"
       ]
      }
     ],
     "prompt_number": 8
    },
    {
     "cell_type": "code",
     "collapsed": false,
     "input": [
      "age_lower,age_upper= outlier_limits(df['AGE'])\n",
      "alc_lower,alc_upper= outlier_limits(df['ALCOHOL'])\n",
      "\n",
      "df = df[ \n",
      "    (df['AGE']>age_lower) &\n",
      "    (df['AGE']<age_upper) &\n",
      "    (df['ALCOHOL']>alc_lower) &\n",
      "    (df['ALCOHOL']<alc_upper)\n",
      "]\n",
      "df['AGE'] = df['AGE']- df['AGE'].mean()\n",
      "df.describe()"
     ],
     "language": "python",
     "metadata": {},
     "outputs": [
      {
       "html": [
        "<div style=\"max-width:1500px;overflow:auto;\">\n",
        "<table border=\"1\" class=\"dataframe\">\n",
        "  <thead>\n",
        "    <tr style=\"text-align: right;\">\n",
        "      <th></th>\n",
        "      <th>AGE</th>\n",
        "      <th>ALCOHOL</th>\n",
        "    </tr>\n",
        "  </thead>\n",
        "  <tbody>\n",
        "    <tr>\n",
        "      <th>count</th>\n",
        "      <td>1.645100e+04</td>\n",
        "      <td>16451.000000</td>\n",
        "    </tr>\n",
        "    <tr>\n",
        "      <th>mean</th>\n",
        "      <td>2.684349e-16</td>\n",
        "      <td>0.189769</td>\n",
        "    </tr>\n",
        "    <tr>\n",
        "      <th>std</th>\n",
        "      <td>4.055066e+00</td>\n",
        "      <td>0.260015</td>\n",
        "    </tr>\n",
        "    <tr>\n",
        "      <th>min</th>\n",
        "      <td>-8.798128e+00</td>\n",
        "      <td>0.000300</td>\n",
        "    </tr>\n",
        "    <tr>\n",
        "      <th>25%</th>\n",
        "      <td>-2.798128e+00</td>\n",
        "      <td>0.011700</td>\n",
        "    </tr>\n",
        "    <tr>\n",
        "      <th>50%</th>\n",
        "      <td>-7.981278e-01</td>\n",
        "      <td>0.061600</td>\n",
        "    </tr>\n",
        "    <tr>\n",
        "      <th>75%</th>\n",
        "      <td>2.201872e+00</td>\n",
        "      <td>0.271500</td>\n",
        "    </tr>\n",
        "    <tr>\n",
        "      <th>max</th>\n",
        "      <td>1.120187e+01</td>\n",
        "      <td>1.110200</td>\n",
        "    </tr>\n",
        "  </tbody>\n",
        "</table>\n",
        "</div>"
       ],
       "metadata": {},
       "output_type": "pyout",
       "prompt_number": 9,
       "text": [
        "                AGE       ALCOHOL\n",
        "count  1.645100e+04  16451.000000\n",
        "mean   2.684349e-16      0.189769\n",
        "std    4.055066e+00      0.260015\n",
        "min   -8.798128e+00      0.000300\n",
        "25%   -2.798128e+00      0.011700\n",
        "50%   -7.981278e-01      0.061600\n",
        "75%    2.201872e+00      0.271500\n",
        "max    1.120187e+01      1.110200"
       ]
      }
     ],
     "prompt_number": 9
    },
    {
     "cell_type": "markdown",
     "metadata": {},
     "source": [
      "It is possible to see that all the values are in range, outliers have been removed and the population is formed by 16451 samples."
     ]
    },
    {
     "cell_type": "markdown",
     "metadata": {},
     "source": [
      "## Regression model"
     ]
    },
    {
     "cell_type": "code",
     "collapsed": false,
     "input": [
      "model = smf.ols(formula='ALCOHOL~AGE',data=df).fit()\n",
      "print model.summary()"
     ],
     "language": "python",
     "metadata": {},
     "outputs": [
      {
       "output_type": "stream",
       "stream": "stdout",
       "text": [
        "                            OLS Regression Results                            \n",
        "==============================================================================\n",
        "Dep. Variable:                ALCOHOL   R-squared:                       0.006\n",
        "Model:                            OLS   Adj. R-squared:                  0.006\n",
        "Method:                 Least Squares   F-statistic:                     102.9\n",
        "Date:                Sat, 27 Feb 2016   Prob (F-statistic):           4.18e-24\n",
        "Time:                        22:45:48   Log-Likelihood:                -1131.4\n",
        "No. Observations:               16451   AIC:                             2267.\n",
        "Df Residuals:                   16449   BIC:                             2282.\n",
        "Df Model:                           1                                         \n",
        "Covariance Type:            nonrobust                                         \n",
        "==============================================================================\n",
        "                 coef    std err          t      P>|t|      [95.0% Conf. Int.]\n",
        "------------------------------------------------------------------------------\n",
        "Intercept      0.1898      0.002     93.900      0.000         0.186     0.194\n",
        "AGE            0.0051      0.000     10.143      0.000         0.004     0.006\n",
        "==============================================================================\n",
        "Omnibus:                     4704.441   Durbin-Watson:                   2.013\n",
        "Prob(Omnibus):                  0.000   Jarque-Bera (JB):            10471.995\n",
        "Skew:                           1.674   Prob(JB):                         0.00\n",
        "Kurtosis:                       5.016   Cond. No.                         4.05\n",
        "==============================================================================\n",
        "\n",
        "Warnings:\n",
        "[1] Standard Errors assume that the covariance matrix of the errors is correctly specified.\n"
       ]
      }
     ],
     "prompt_number": 11
    },
    {
     "cell_type": "markdown",
     "metadata": {},
     "source": [
      "## Summary\n",
      "\n",
      "The p-value (nearly zero) is lower than 0.05. Therefore, the null hypothesis can be rejected as there is statistical evidence of the association between the variables.\n",
      "\n",
      "The R-squared value is nearly 0, so, almost no variance can be explained by the AGE and the predictive equation\n",
      "$$ \\hat{ALCOHOL}=AGE*0.0051+0.1898 $$\n",
      "is useless. There is no correlation between variables.\n",
      "\n",
      "This is a scatter plot with the fitted line."
     ]
    },
    {
     "cell_type": "code",
     "collapsed": false,
     "input": [
      "sns.lmplot(x='AGE', y='ALCOHOL', data=df)"
     ],
     "language": "python",
     "metadata": {},
     "outputs": [
      {
       "metadata": {},
       "output_type": "pyout",
       "prompt_number": 12,
       "text": [
        "<seaborn.axisgrid.FacetGrid at 0x7f6aa5c21790>"
       ]
      },
      {
       "metadata": {},
       "output_type": "display_data",
       "png": "[encoded data removed]",
       "text": [
        "<matplotlib.figure.Figure at 0x7f6aa5fdb050>"
       ]
      }
     ],
     "prompt_number": 12
    },
    {
     "cell_type": "markdown",
     "metadata": {},
     "source": [
      "It is possible to see the plot does not comply with the [homoscedasticity](https://en.wikipedia.org/wiki/Homoscedasticity) assumption for the linear regression model.\n",
      "\n",
      "The linear model cannot decribe the relationship between the age at which one gets married and the alcohol they drank during last year, but, the relationship has statistical significance (it did not happen by chance)."
     ]
    }
   ],
   "metadata": {}
  }
 ]
}