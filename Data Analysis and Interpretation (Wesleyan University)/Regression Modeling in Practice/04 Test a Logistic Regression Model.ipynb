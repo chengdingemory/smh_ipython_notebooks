{
 "metadata": {
  "name": "",
  "signature": "sha256:5fe59deb6b6608fa05d12bc380fbd7bc76608761170f0171a1a771ec25b03be1"
 },
 "nbformat": 3,
 "nbformat_minor": 0,
 "worksheets": [
  {
   "cells": [
    {
     "cell_type": "markdown",
     "metadata": {},
     "source": [
      "# 04 Test a Logistic Regression Model\n",
      "\n",
      "`\n",
      "Author: Samuel M.H. <samuel.mh@gmail.com>\n",
      "Date: 13-03-2016\n",
      "`\n",
      "\n",
      "This week's assignment is to test a logistic regression model.\n",
      "\n",
      "## Data preparation for this assignment:\n",
      "\n",
      "1. If your response variable is categorical with more than two categories, you will need to collapse it down to two categories, or subset your data to select observations from 2 categories.\n",
      "1. If your response variable is quantitative, you will need to bin it into two categories.\n",
      "\n",
      "\n",
      "## The assignment:\n",
      "\n",
      "Write a blog entry that summarize in a few sentences \n",
      "\n",
      "1. what you found, making sure you discuss the results for the associations between all of your explanatory variables and your response variable. Make sure to include statistical results (odds ratios, p-values, and 95% confidence intervals for the odds ratios) in your summary. \n",
      "2. Report whether or not your results supported your hypothesis for the association between your primary explanatory variable and your response variable. \n",
      "3. Discuss whether or not there was evidence of confounding for the association between your primary explanatory and the response variable (Hint: adding additional explanatory variables to your model one at a time will make it easier to identify which of the variables are confounding variables).\n",
      "\n",
      "## What to Submit\n",
      "Write a blog entry and submit the URL for your blog. Your blog entry should include \n",
      "\n",
      "1. the summary of your results that addresses parts 1-3 of the assignment, \n",
      "2. the output from your logistic regression model.\n",
      "\n",
      "---"
     ]
    },
    {
     "cell_type": "markdown",
     "metadata": {},
     "source": [
      "## Intro\n",
      "This week I will try to explain the average daily volume of ethanol consumed per person in past year with a multiple regression model.\n",
      "\n",
      "## Dataset\n",
      "* National Epidemiological Survey on Alcohol and Related Conditions (NESARC)\n",
      "* [CSV file](https://d396qusza40orc.cloudfront.net/phoenixassets/data-management-visualization/nesarc_pds.csv)\n",
      "* [File description](https://d396qusza40orc.cloudfront.net/phoenixassets/data-management-visualization/NESARC%20Wave%201%20Code%20Book%20w%20toc.pdf)\n",
      "\n",
      "### Variables\n",
      "* **Response**:  \n",
      "    * ETOTLCA2 -> ETHANOL: average daily volume of ethanol consumed in past year (ounces).\n",
      "\n",
      "* **Explanatory**: \n",
      "    * AGE -> AGE: age (years).\n",
      "    * S1Q24LB -> WEIGHT: weight (pounds).\n",
      "    * NUMPERS -> HOUSE_PEOPLE: number of persons in household.\n",
      "    * S1Q4A -> MARRAIGE: age at first marriage (years).\n",
      "    * S1Q8D -> WORK: age when first worked full time, 30+ hours a week (years).\n",
      "    * S1Q12A -> INCOME: total household income in last 12 months (dolars).\n",
      "\n",
      "All used variables are quantitative."
     ]
    }
   ],
   "metadata": {}
  }
 ]
}