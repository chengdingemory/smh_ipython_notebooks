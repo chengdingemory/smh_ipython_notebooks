{
 "metadata": {
  "name": "",
  "signature": "sha256:03b7873870b4f40dd13f820a57765bc195d08aed6eda9c47d9b4d01e14bcd809"
 },
 "nbformat": 3,
 "nbformat_minor": 0,
 "worksheets": [
  {
   "cells": [
    {
     "cell_type": "markdown",
     "metadata": {},
     "source": [
      "# Test a Logistic Regression Model\n",
      "\n",
      "`\n",
      "Author: Samuel M.H. <samuel.mh@gmail.com>\n",
      "Date: 13-03-2016\n",
      "`\n",
      "\n",
      "This week's assignment is to test a logistic regression model.\n",
      "\n",
      "## Data preparation for this assignment:\n",
      "\n",
      "1. If your response variable is categorical with more than two categories, you will need to collapse it down to two categories, or subset your data to select observations from 2 categories.\n",
      "1. If your response variable is quantitative, you will need to bin it into two categories.\n",
      "\n",
      "\n",
      "## The assignment:\n",
      "\n",
      "Write a blog entry that summarize in a few sentences \n",
      "\n",
      "1. what you found, making sure you discuss the results for the associations between all of your explanatory variables and your response variable. Make sure to include statistical results (odds ratios, p-values, and 95% confidence intervals for the odds ratios) in your summary. \n",
      "2. Report whether or not your results supported your hypothesis for the association between your primary explanatory variable and your response variable. \n",
      "3. Discuss whether or not there was evidence of confounding for the association between your primary explanatory and the response variable (Hint: adding additional explanatory variables to your model one at a time will make it easier to identify which of the variables are confounding variables).\n",
      "\n",
      "## What to Submit\n",
      "Write a blog entry and submit the URL for your blog. Your blog entry should include \n",
      "\n",
      "1. the summary of your results that addresses parts 1-3 of the assignment, \n",
      "2. the output from your logistic regression model.\n",
      "\n",
      "---"
     ]
    },
    {
     "cell_type": "markdown",
     "metadata": {},
     "source": [
      "## Intro\n",
      "This week I will make a model that describes how probable is a person works 35 or more hours a week.\n",
      "\n",
      "## Dataset\n",
      "* National Epidemiological Survey on Alcohol and Related Conditions (NESARC)\n",
      "* [CSV file](https://d396qusza40orc.cloudfront.net/phoenixassets/data-management-visualization/nesarc_pds.csv)\n",
      "* [File description](https://d396qusza40orc.cloudfront.net/phoenixassets/data-management-visualization/NESARC%20Wave%201%20Code%20Book%20w%20toc.pdf)\n",
      "\n",
      "### Variables\n",
      "* **Response**:\n",
      "    * WORK35 -> S1Q7A1: present situation includes working full time (35+ hours a week). Categorical yes/no.\n",
      "\n",
      "* **Explanatory**: \n",
      "    * AGE -> AGE: age (years).\n",
      "    * S1Q24LB -> WEIGHT: weight (pounds).\n",
      "    * NUMPERS -> HOUSE_PEOPLE: number of persons in household.\n",
      "    * ETHRACE2A -> RACE: imputed race/ethnicity (5 groups, reference group=1,white).\n",
      "    * SEX -> MALE: gender (2 groups). Used in confounding.\n",
      "    * S10Q1A63 -> CHANGE_MIND: change mind about things depending on people you're with or what read or saw on tv (2 groups). Used in confounding."
     ]
    },
    {
     "cell_type": "code",
     "collapsed": false,
     "input": [
      "%pylab inline\n",
      "\n",
      "import numpy as np\n",
      "import pandas as pd\n",
      "import statsmodels.api as sm\n",
      "import statsmodels.formula.api as smf\n",
      "import seaborn as sns\n",
      "import matplotlib.pyplot as plt\n",
      "\n",
      "pylab.rcParams['figure.figsize'] = (15, 8)"
     ],
     "language": "python",
     "metadata": {},
     "outputs": [
      {
       "output_type": "stream",
       "stream": "stdout",
       "text": [
        "Populating the interactive namespace from numpy and matplotlib\n"
       ]
      }
     ],
     "prompt_number": 16
    },
    {
     "cell_type": "markdown",
     "metadata": {},
     "source": [
      "## Data"
     ]
    },
    {
     "cell_type": "code",
     "collapsed": false,
     "input": [
      "# Load data\n",
      "data = pd.read_csv('../datasets/NESARC/nesarc_pds.csv', usecols=['S1Q7A1','AGE','S1Q24LB','NUMPERS','ETHRACE2A','SEX','S10Q1A63'])"
     ],
     "language": "python",
     "metadata": {},
     "outputs": [],
     "prompt_number": 2
    },
    {
     "cell_type": "code",
     "collapsed": false,
     "input": [
      "# Custom dataframe\n",
      "df = pd.DataFrame()\n",
      "\n",
      "# Response variable\n",
      "df['WORK35'] = data['S1Q7A1'].replace(' ',np.NaN).replace('2','0').astype(float)\n",
      "\n",
      "# Explanatory variables\n",
      "df['AGE'] = data['AGE'].replace(' ',np.NaN).replace('98',np.NaN).astype(float)\n",
      "df['WEIGHT'] = data['S1Q24LB'].replace(' ',np.NaN).replace('999',np.NaN).astype(float)\n",
      "df['HOUSE_PEOPLE'] = data['NUMPERS'].replace(' ',np.NaN).astype(float)\n",
      "df['RACE'] = data['ETHRACE2A'].replace(' ',np.NaN)\n",
      "df['MALE'] = data['SEX'].replace(' ',np.NaN).replace('2','0').astype(float)\n",
      "df['CHANGE_MIND'] = data['S10Q1A63'].replace(' ',np.NaN).replace('9',np.NaN).replace('2','0').astype(float)\n",
      "\n",
      "df = df.dropna()"
     ],
     "language": "python",
     "metadata": {},
     "outputs": [],
     "prompt_number": 17
    },
    {
     "cell_type": "markdown",
     "metadata": {},
     "source": [
      "### Data summaries: counts and descriptions"
     ]
    },
    {
     "cell_type": "code",
     "collapsed": false,
     "input": [
      "df['WORK35'].value_counts()"
     ],
     "language": "python",
     "metadata": {},
     "outputs": [
      {
       "metadata": {},
       "output_type": "pyout",
       "prompt_number": 4,
       "text": [
        "1    20942\n",
        "0    19462\n",
        "Name: WORK35, dtype: int64"
       ]
      }
     ],
     "prompt_number": 4
    },
    {
     "cell_type": "code",
     "collapsed": false,
     "input": [
      "df['RACE'].value_counts()"
     ],
     "language": "python",
     "metadata": {},
     "outputs": [
      {
       "metadata": {},
       "output_type": "pyout",
       "prompt_number": 5,
       "text": [
        "1    23023\n",
        "5     7861\n",
        "2     7628\n",
        "4     1238\n",
        "3      654\n",
        "Name: RACE, dtype: int64"
       ]
      }
     ],
     "prompt_number": 5
    },
    {
     "cell_type": "code",
     "collapsed": false,
     "input": [
      "pd.crosstab(df['WORK35'],df['RACE'])"
     ],
     "language": "python",
     "metadata": {},
     "outputs": [
      {
       "html": [
        "<div style=\"max-width:1500px;overflow:auto;\">\n",
        "<table border=\"1\" class=\"dataframe\">\n",
        "  <thead>\n",
        "    <tr style=\"text-align: right;\">\n",
        "      <th>RACE</th>\n",
        "      <th>1</th>\n",
        "      <th>2</th>\n",
        "      <th>3</th>\n",
        "      <th>4</th>\n",
        "      <th>5</th>\n",
        "    </tr>\n",
        "    <tr>\n",
        "      <th>WORK35</th>\n",
        "      <th></th>\n",
        "      <th></th>\n",
        "      <th></th>\n",
        "      <th></th>\n",
        "      <th></th>\n",
        "    </tr>\n",
        "  </thead>\n",
        "  <tbody>\n",
        "    <tr>\n",
        "      <th>0</th>\n",
        "      <td>11406</td>\n",
        "      <td>3629</td>\n",
        "      <td>333</td>\n",
        "      <td>557</td>\n",
        "      <td>3537</td>\n",
        "    </tr>\n",
        "    <tr>\n",
        "      <th>1</th>\n",
        "      <td>11617</td>\n",
        "      <td>3999</td>\n",
        "      <td>321</td>\n",
        "      <td>681</td>\n",
        "      <td>4324</td>\n",
        "    </tr>\n",
        "  </tbody>\n",
        "</table>\n",
        "</div>"
       ],
       "metadata": {},
       "output_type": "pyout",
       "prompt_number": 6,
       "text": [
        "RACE        1     2    3    4     5\n",
        "WORK35                             \n",
        "0       11406  3629  333  557  3537\n",
        "1       11617  3999  321  681  4324"
       ]
      }
     ],
     "prompt_number": 6
    },
    {
     "cell_type": "code",
     "collapsed": false,
     "input": [
      "df[['AGE','WEIGHT','HOUSE_PEOPLE']].describe().round(3)"
     ],
     "language": "python",
     "metadata": {},
     "outputs": [
      {
       "html": [
        "<div style=\"max-width:1500px;overflow:auto;\">\n",
        "<table border=\"1\" class=\"dataframe\">\n",
        "  <thead>\n",
        "    <tr style=\"text-align: right;\">\n",
        "      <th></th>\n",
        "      <th>AGE</th>\n",
        "      <th>WEIGHT</th>\n",
        "      <th>HOUSE_PEOPLE</th>\n",
        "    </tr>\n",
        "  </thead>\n",
        "  <tbody>\n",
        "    <tr>\n",
        "      <th>count</th>\n",
        "      <td>40404.000</td>\n",
        "      <td>40404.000</td>\n",
        "      <td>40404.000</td>\n",
        "    </tr>\n",
        "    <tr>\n",
        "      <th>mean</th>\n",
        "      <td>46.277</td>\n",
        "      <td>170.754</td>\n",
        "      <td>2.521</td>\n",
        "    </tr>\n",
        "    <tr>\n",
        "      <th>std</th>\n",
        "      <td>18.157</td>\n",
        "      <td>41.376</td>\n",
        "      <td>1.495</td>\n",
        "    </tr>\n",
        "    <tr>\n",
        "      <th>min</th>\n",
        "      <td>18.000</td>\n",
        "      <td>62.000</td>\n",
        "      <td>1.000</td>\n",
        "    </tr>\n",
        "    <tr>\n",
        "      <th>25%</th>\n",
        "      <td>32.000</td>\n",
        "      <td>140.000</td>\n",
        "      <td>1.000</td>\n",
        "    </tr>\n",
        "    <tr>\n",
        "      <th>50%</th>\n",
        "      <td>44.000</td>\n",
        "      <td>165.000</td>\n",
        "      <td>2.000</td>\n",
        "    </tr>\n",
        "    <tr>\n",
        "      <th>75%</th>\n",
        "      <td>59.000</td>\n",
        "      <td>193.000</td>\n",
        "      <td>3.000</td>\n",
        "    </tr>\n",
        "    <tr>\n",
        "      <th>max</th>\n",
        "      <td>97.000</td>\n",
        "      <td>500.000</td>\n",
        "      <td>17.000</td>\n",
        "    </tr>\n",
        "  </tbody>\n",
        "</table>\n",
        "</div>"
       ],
       "metadata": {},
       "output_type": "pyout",
       "prompt_number": 7,
       "text": [
        "             AGE     WEIGHT  HOUSE_PEOPLE\n",
        "count  40404.000  40404.000     40404.000\n",
        "mean      46.277    170.754         2.521\n",
        "std       18.157     41.376         1.495\n",
        "min       18.000     62.000         1.000\n",
        "25%       32.000    140.000         1.000\n",
        "50%       44.000    165.000         2.000\n",
        "75%       59.000    193.000         3.000\n",
        "max       97.000    500.000        17.000"
       ]
      }
     ],
     "prompt_number": 7
    },
    {
     "cell_type": "markdown",
     "metadata": {},
     "source": [
      "### Centered means"
     ]
    },
    {
     "cell_type": "code",
     "collapsed": false,
     "input": [
      "# Center means\n",
      "for c in ['AGE','WEIGHT','HOUSE_PEOPLE']:\n",
      "    df[c] = df[c]-df[c].mean()\n",
      "\n",
      "df[['AGE','WEIGHT','HOUSE_PEOPLE']].describe()"
     ],
     "language": "python",
     "metadata": {},
     "outputs": [
      {
       "html": [
        "<div style=\"max-width:1500px;overflow:auto;\">\n",
        "<table border=\"1\" class=\"dataframe\">\n",
        "  <thead>\n",
        "    <tr style=\"text-align: right;\">\n",
        "      <th></th>\n",
        "      <th>AGE</th>\n",
        "      <th>WEIGHT</th>\n",
        "      <th>HOUSE_PEOPLE</th>\n",
        "    </tr>\n",
        "  </thead>\n",
        "  <tbody>\n",
        "    <tr>\n",
        "      <th>count</th>\n",
        "      <td>4.040400e+04</td>\n",
        "      <td>4.040400e+04</td>\n",
        "      <td>4.040400e+04</td>\n",
        "    </tr>\n",
        "    <tr>\n",
        "      <th>mean</th>\n",
        "      <td>-9.454207e-16</td>\n",
        "      <td>2.160962e-15</td>\n",
        "      <td>-3.657878e-17</td>\n",
        "    </tr>\n",
        "    <tr>\n",
        "      <th>std</th>\n",
        "      <td>1.815653e+01</td>\n",
        "      <td>4.137566e+01</td>\n",
        "      <td>1.495105e+00</td>\n",
        "    </tr>\n",
        "    <tr>\n",
        "      <th>min</th>\n",
        "      <td>-2.827685e+01</td>\n",
        "      <td>-1.087541e+02</td>\n",
        "      <td>-1.521458e+00</td>\n",
        "    </tr>\n",
        "    <tr>\n",
        "      <th>25%</th>\n",
        "      <td>-1.427685e+01</td>\n",
        "      <td>-3.075406e+01</td>\n",
        "      <td>-1.521458e+00</td>\n",
        "    </tr>\n",
        "    <tr>\n",
        "      <th>50%</th>\n",
        "      <td>-2.276854e+00</td>\n",
        "      <td>-5.754059e+00</td>\n",
        "      <td>-5.214583e-01</td>\n",
        "    </tr>\n",
        "    <tr>\n",
        "      <th>75%</th>\n",
        "      <td>1.272315e+01</td>\n",
        "      <td>2.224594e+01</td>\n",
        "      <td>4.785417e-01</td>\n",
        "    </tr>\n",
        "    <tr>\n",
        "      <th>max</th>\n",
        "      <td>5.072315e+01</td>\n",
        "      <td>3.292459e+02</td>\n",
        "      <td>1.447854e+01</td>\n",
        "    </tr>\n",
        "  </tbody>\n",
        "</table>\n",
        "</div>"
       ],
       "metadata": {},
       "output_type": "pyout",
       "prompt_number": 8,
       "text": [
        "                AGE        WEIGHT  HOUSE_PEOPLE\n",
        "count  4.040400e+04  4.040400e+04  4.040400e+04\n",
        "mean  -9.454207e-16  2.160962e-15 -3.657878e-17\n",
        "std    1.815653e+01  4.137566e+01  1.495105e+00\n",
        "min   -2.827685e+01 -1.087541e+02 -1.521458e+00\n",
        "25%   -1.427685e+01 -3.075406e+01 -1.521458e+00\n",
        "50%   -2.276854e+00 -5.754059e+00 -5.214583e-01\n",
        "75%    1.272315e+01  2.224594e+01  4.785417e-01\n",
        "max    5.072315e+01  3.292459e+02  1.447854e+01"
       ]
      }
     ],
     "prompt_number": 8
    },
    {
     "cell_type": "markdown",
     "metadata": {},
     "source": [
      "## Logit regression model"
     ]
    },
    {
     "cell_type": "markdown",
     "metadata": {},
     "source": [
      "### Model"
     ]
    },
    {
     "cell_type": "code",
     "collapsed": false,
     "input": [
      "model = smf.logit(formula='WORK35 ~ AGE + WEIGHT + HOUSE_PEOPLE + C(RACE)',data=df).fit()\n",
      "print(model.summary())"
     ],
     "language": "python",
     "metadata": {},
     "outputs": [
      {
       "output_type": "stream",
       "stream": "stdout",
       "text": [
        "Optimization terminated successfully.\n",
        "         Current function value: 0.616662\n",
        "         Iterations 5\n",
        "                           Logit Regression Results                           \n",
        "==============================================================================\n",
        "Dep. Variable:                 WORK35   No. Observations:                40404\n",
        "Model:                          Logit   Df Residuals:                    40396\n",
        "Method:                           MLE   Df Model:                            7\n",
        "Date:                Sun, 13 Mar 2016   Pseudo R-squ.:                  0.1095\n",
        "Time:                        22:35:26   Log-Likelihood:                -24916.\n",
        "converged:                       True   LL-Null:                       -27979.\n",
        "                                        LLR p-value:                     0.000\n",
        "================================================================================\n",
        "                   coef    std err          z      P>|z|      [95.0% Conf. Int.]\n",
        "--------------------------------------------------------------------------------\n",
        "Intercept        0.1104      0.014      7.670      0.000         0.082     0.139\n",
        "C(RACE)[T.2]    -0.1223      0.029     -4.257      0.000        -0.179    -0.066\n",
        "C(RACE)[T.3]    -0.2179      0.085     -2.553      0.011        -0.385    -0.051\n",
        "C(RACE)[T.4]     0.0345      0.063      0.545      0.586        -0.089     0.158\n",
        "C(RACE)[T.5]    -0.0914      0.029     -3.155      0.002        -0.148    -0.035\n",
        "AGE             -0.0467      0.001    -65.777      0.000        -0.048    -0.045\n",
        "WEIGHT           0.0071      0.000     25.725      0.000         0.007     0.008\n",
        "HOUSE_PEOPLE    -0.0753      0.008     -9.624      0.000        -0.091    -0.060\n",
        "================================================================================\n"
       ]
      }
     ],
     "prompt_number": 9
    },
    {
     "cell_type": "markdown",
     "metadata": {},
     "source": [
      "### Odd ratios and p-values"
     ]
    },
    {
     "cell_type": "code",
     "collapsed": false,
     "input": [
      "conf = model.conf_int()\n",
      "conf.columns = ['Lower CI','Upper CI']\n",
      "conf['OR'] = model.params\n",
      "conf = np.exp(conf)\n",
      "conf['p-val'] = model.pvalues.round(3)\n",
      "print(conf)"
     ],
     "language": "python",
     "metadata": {},
     "outputs": [
      {
       "output_type": "stream",
       "stream": "stdout",
       "text": [
        "              Lower CI  Upper CI        OR  p-val\n",
        "Intercept     1.085672  1.148696  1.116740  0.000\n",
        "C(RACE)[T.2]  0.836475  0.936155  0.884912  0.000\n",
        "C(RACE)[T.3]  0.680385  0.950637  0.804238  0.011\n",
        "C(RACE)[T.4]  0.914488  1.171532  1.035061  0.586\n",
        "C(RACE)[T.5]  0.862312  0.965978  0.912674  0.002\n",
        "AGE           0.953006  0.955664  0.954334  0.000\n",
        "WEIGHT        1.006547  1.007631  1.007089  0.000\n",
        "HOUSE_PEOPLE  0.913405  0.941834  0.927510  0.000\n"
       ]
      }
     ],
     "prompt_number": 10
    },
    {
     "cell_type": "markdown",
     "metadata": {},
     "source": [
      "Looking at the p-values, all the variables are statistically associated with the response variable **except** RACE=4 (Asian/Native Hawaiian/Pacific Islander, Not Hispanic or Latino).\n",
      "\n",
      "All the variables are negatively associated with the likelihood of working >35 hours a week (and being white, the reference for race) **but** the weight, which is slightly positively correlated. The weight could be the consequence instead of the cause.\n",
      "\n",
      "Due to the fact that most of the confidence intervals overlap, it is not possible to say which variable is the most strongly associated with the explanatory variable.\n",
      "Nevertheless, these are the intervals that don't overlap (bigger means more explanatory power/association):\n",
      "* RACE=3 > WEIGHT > AGE\n",
      "* RACE=2 > AGE"
     ]
    },
    {
     "cell_type": "markdown",
     "metadata": {},
     "source": [
      "The most strong variable seems to be race. In terms of odd ratios, this means that if you are white, you are 1.24 times more likely to work full time than an American indian, 1.13 times than a black or 1.08 times than hispanic.\n",
      "The age and the number of people living in the house are also significant but weak in the result."
     ]
    },
    {
     "cell_type": "markdown",
     "metadata": {},
     "source": [
      "### Support"
     ]
    },
    {
     "cell_type": "markdown",
     "metadata": {},
     "source": [
      "In order to evaluate if the specification of the model is correct, I should evaluate the [goodness of the fit](https://en.wikipedia.org/wiki/Logistic_regression#Evaluating_goodness_of_fit). Since this exceeds the scope of the course, I am taking the pseudo R\u00b2 value and improving it by the addition of more explanatory variables."
     ]
    },
    {
     "cell_type": "markdown",
     "metadata": {},
     "source": [
      "## Improving the model"
     ]
    },
    {
     "cell_type": "markdown",
     "metadata": {},
     "source": [
      "In this part I will add 2 categorical variables: if the person is a male, and if the person is easily influenced by media or other people."
     ]
    },
    {
     "cell_type": "markdown",
     "metadata": {},
     "source": [
      "### MALE variable"
     ]
    },
    {
     "cell_type": "code",
     "collapsed": false,
     "input": [
      "df['MALE'].value_counts()"
     ],
     "language": "python",
     "metadata": {},
     "outputs": [
      {
       "metadata": {},
       "output_type": "pyout",
       "prompt_number": 11,
       "text": [
        "0    22860\n",
        "1    17544\n",
        "Name: MALE, dtype: int64"
       ]
      }
     ],
     "prompt_number": 11
    },
    {
     "cell_type": "code",
     "collapsed": false,
     "input": [
      "model2 = smf.logit(formula='WORK35 ~ AGE + WEIGHT + HOUSE_PEOPLE + C(RACE) + MALE',data=df).fit()\n",
      "print(model2.summary())"
     ],
     "language": "python",
     "metadata": {},
     "outputs": [
      {
       "output_type": "stream",
       "stream": "stdout",
       "text": [
        "Optimization terminated successfully.\n",
        "         Current function value: 0.604865\n",
        "         Iterations 5\n",
        "                           Logit Regression Results                           \n",
        "==============================================================================\n",
        "Dep. Variable:                 WORK35   No. Observations:                40404\n",
        "Model:                          Logit   Df Residuals:                    40395\n",
        "Method:                           MLE   Df Model:                            8\n",
        "Date:                Sun, 13 Mar 2016   Pseudo R-squ.:                  0.1265\n",
        "Time:                        22:35:26   Log-Likelihood:                -24439.\n",
        "converged:                       True   LL-Null:                       -27979.\n",
        "                                        LLR p-value:                     0.000\n",
        "================================================================================\n",
        "                   coef    std err          z      P>|z|      [95.0% Conf. Int.]\n",
        "--------------------------------------------------------------------------------\n",
        "Intercept       -0.2162      0.018    -12.029      0.000        -0.251    -0.181\n",
        "C(RACE)[T.2]    -0.0308      0.029     -1.058      0.290        -0.088     0.026\n",
        "C(RACE)[T.3]    -0.1999      0.086     -2.320      0.020        -0.369    -0.031\n",
        "C(RACE)[T.4]    -0.0546      0.064     -0.850      0.395        -0.180     0.071\n",
        "C(RACE)[T.5]    -0.1088      0.029     -3.705      0.000        -0.166    -0.051\n",
        "AGE             -0.0472      0.001    -65.469      0.000        -0.049    -0.046\n",
        "WEIGHT           0.0035      0.000     12.043      0.000         0.003     0.004\n",
        "HOUSE_PEOPLE    -0.0729      0.008     -9.204      0.000        -0.088    -0.057\n",
        "MALE             0.7345      0.024     30.641      0.000         0.688     0.781\n",
        "================================================================================\n"
       ]
      }
     ],
     "prompt_number": 12
    },
    {
     "cell_type": "code",
     "collapsed": false,
     "input": [
      "conf = model2.conf_int()\n",
      "conf.columns = ['Lower CI','Upper CI']\n",
      "conf['OR'] = model2.params\n",
      "conf = np.exp(conf)\n",
      "conf['p-val'] = model2.pvalues.round(3)\n",
      "print(conf)"
     ],
     "language": "python",
     "metadata": {},
     "outputs": [
      {
       "output_type": "stream",
       "stream": "stdout",
       "text": [
        "              Lower CI  Upper CI        OR  p-val\n",
        "Intercept     0.777726  0.834487  0.805606  0.000\n",
        "C(RACE)[T.2]  0.915778  1.026646  0.969628  0.290\n",
        "C(RACE)[T.3]  0.691552  0.969484  0.818809  0.020\n",
        "C(RACE)[T.4]  0.834961  1.073867  0.946909  0.395\n",
        "C(RACE)[T.5]  0.846804  0.950072  0.896953  0.000\n",
        "AGE           0.952596  0.955289  0.953942  0.000\n",
        "WEIGHT        1.002966  1.004122  1.003544  0.000\n",
        "HOUSE_PEOPLE  0.915326  0.944207  0.929655  0.000\n",
        "MALE          1.988746  2.184676  2.084411  0.000\n"
       ]
      }
     ],
     "prompt_number": 13
    },
    {
     "cell_type": "markdown",
     "metadata": {},
     "source": [
      "Now it is possible to see that RACE=2, being black is not statistically associated with the result variable, and the odd ratios for the RACE variable are less significant. This is due to the fact that the gender is a **confounding variable** as it moderates the impact of the race in the result. \n",
      "\n",
      "I can also say that by being male, a person is 2 times more likely to have a full time job.\n",
      "\n",
      "There is also a gain in the pseudo R\u00b2 value."
     ]
    },
    {
     "cell_type": "markdown",
     "metadata": {},
     "source": [
      "### CHANGE_MIND variable"
     ]
    },
    {
     "cell_type": "code",
     "collapsed": false,
     "input": [
      "df['CHANGE_MIND'].value_counts()"
     ],
     "language": "python",
     "metadata": {},
     "outputs": [
      {
       "metadata": {},
       "output_type": "pyout",
       "prompt_number": 24,
       "text": [
        "0    34650\n",
        "1     5754\n",
        "Name: CHANGE_MIND, dtype: int64"
       ]
      }
     ],
     "prompt_number": 24
    },
    {
     "cell_type": "code",
     "collapsed": false,
     "input": [
      "model3 = smf.logit(formula='WORK35 ~ AGE + WEIGHT + HOUSE_PEOPLE + MALE + CHANGE_MIND',data=df).fit()\n",
      "print(model3.summary())"
     ],
     "language": "python",
     "metadata": {},
     "outputs": [
      {
       "output_type": "stream",
       "stream": "stdout",
       "text": [
        "Optimization terminated successfully.\n",
        "         Current function value: 0.604756\n",
        "         Iterations 5\n",
        "                           Logit Regression Results                           \n",
        "==============================================================================\n",
        "Dep. Variable:                 WORK35   No. Observations:                40404\n",
        "Model:                          Logit   Df Residuals:                    40398\n",
        "Method:                           MLE   Df Model:                            5\n",
        "Date:                Sun, 13 Mar 2016   Pseudo R-squ.:                  0.1267\n",
        "Time:                        22:35:26   Log-Likelihood:                -24435.\n",
        "converged:                       True   LL-Null:                       -27979.\n",
        "                                        LLR p-value:                     0.000\n",
        "================================================================================\n",
        "                   coef    std err          z      P>|z|      [95.0% Conf. Int.]\n",
        "--------------------------------------------------------------------------------\n",
        "Intercept       -0.2225      0.016    -14.274      0.000        -0.253    -0.192\n",
        "AGE             -0.0470      0.001    -65.665      0.000        -0.048    -0.046\n",
        "WEIGHT           0.0036      0.000     12.657      0.000         0.003     0.004\n",
        "HOUSE_PEOPLE    -0.0785      0.008    -10.045      0.000        -0.094    -0.063\n",
        "MALE             0.7280      0.024     30.584      0.000         0.681     0.775\n",
        "CHANGE_MIND     -0.1612      0.031     -5.157      0.000        -0.222    -0.100\n",
        "================================================================================\n"
       ]
      }
     ],
     "prompt_number": 14
    },
    {
     "cell_type": "code",
     "collapsed": false,
     "input": [
      "conf = model3.conf_int()\n",
      "conf.columns = ['Lower CI','Upper CI']\n",
      "conf['OR'] = model3.params\n",
      "conf = np.exp(conf)\n",
      "conf['p-val'] = model3.pvalues.round(3)\n",
      "print(conf)"
     ],
     "language": "python",
     "metadata": {},
     "outputs": [
      {
       "output_type": "stream",
       "stream": "stdout",
       "text": [
        "              Lower CI  Upper CI        OR  p-val\n",
        "Intercept     0.776395  0.825324  0.800486      0\n",
        "AGE           0.952730  0.955408  0.954068      0\n",
        "WEIGHT        1.003088  1.004222  1.003655      0\n",
        "HOUSE_PEOPLE  0.910446  0.938769  0.924499      0\n",
        "MALE          1.976625  2.169952  2.071034      0\n",
        "CHANGE_MIND   0.800541  0.904897  0.851121      0\n"
       ]
      }
     ],
     "prompt_number": 15
    },
    {
     "cell_type": "markdown",
     "metadata": {},
     "source": [
      "The addition of the new variable improves the R\u00b2 value and falls into the confidence margins.\n",
      "\n",
      "The odd ratio say that if you change your mind about things depending on people you are with or what you read or saw on TV, you are a 17,5% less likely to work more than 35 hours a week. Could this statement be biased by the gender? As the MALE odd ratio is changed, there is evidence to say they are no disjoint groups."
     ]
    }
   ],
   "metadata": {}
  }
 ]
}