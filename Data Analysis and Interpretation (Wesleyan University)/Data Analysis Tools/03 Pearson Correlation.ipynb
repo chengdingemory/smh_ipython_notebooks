{
 "metadata": {
  "name": "",
  "signature": "sha256:2aadba43c57773b4c8fa92d21dcd8bd154a03551a4426bac970565d9f2caa546"
 },
 "nbformat": 3,
 "nbformat_minor": 0,
 "worksheets": [
  {
   "cells": [
    {
     "cell_type": "heading",
     "level": 1,
     "metadata": {},
     "source": [
      "Pearson Correlation"
     ]
    },
    {
     "cell_type": "markdown",
     "metadata": {},
     "source": [
      "`\n",
      "Author: Samuel M.H. <samuel.mh@gmail.com>\n",
      "Date: 31-01-2016\n",
      "`"
     ]
    },
    {
     "cell_type": "markdown",
     "metadata": {},
     "source": [
      "##Instructions##\n",
      "\n",
      "Generate a correlation coefficient.\n",
      "\n",
      "*Note 1*: Two 3+ level categorical variables can be used to generate a correlation coefficient if the the categories are ordered and the average (i.e. mean) can be interpreted. The scatter plot on the other hand will not be useful. In general the scatterplot is not useful for discrete variables (i.e. those that take on a limited number of values).\n",
      "\n",
      "*Note 2*: When we square r, it tells us what proportion of the variability in one variable is described by variation in the second variable (a.k.a. RSquared or Coefficient of Determination).\n",
      "\n",
      "##What to submit:##\n",
      "Following completion of the steps described above, create a blog entry where you submit syntax used to generate a correlation coefficient (copied and pasted from your program) along with corresponding output and a few sentences of interpretation. "
     ]
    },
    {
     "cell_type": "markdown",
     "metadata": {},
     "source": [
      "## Dataset ##\n",
      "* National Epidemiological Survey on Alcohol and Related Conditions (NESARC)\n",
      "* [CSV file](https://d396qusza40orc.cloudfront.net/phoenixassets/data-management-visualization/nesarc_pds.csv)\n",
      "* [File description](https://d396qusza40orc.cloudfront.net/phoenixassets/data-management-visualization/NESARC%20Wave%201%20Code%20Book%20w%20toc.pdf)"
     ]
    },
    {
     "cell_type": "code",
     "collapsed": false,
     "input": [
      "%matplotlib inline\n",
      "\n",
      "import pandas\n",
      "import matplotlib.pyplot as plt\n",
      "import scipy\n",
      "import seaborn as sns"
     ],
     "language": "python",
     "metadata": {},
     "outputs": [],
     "prompt_number": 8
    },
    {
     "cell_type": "markdown",
     "metadata": {},
     "source": [
      "##Test of correlation##\n",
      "I am testing if there is a linear relationship between the age (years) and the average height (cm) in the population of white people between 20 and 50 years old."
     ]
    },
    {
     "cell_type": "markdown",
     "metadata": {},
     "source": [
      "### Ingesting and curating the data ###"
     ]
    },
    {
     "cell_type": "code",
     "collapsed": false,
     "input": [
      "#Load\n",
      "data = pandas.read_csv('../datasets/NESARC/nesarc_pds.csv', usecols=['AGE','S1Q24FT','S1Q24IN','ETHRACE2A'])\n",
      "#Select\n",
      "data = data[(data['AGE']>=20) & (data['AGE']<=50) & (data['ETHRACE2A']==1)]\n",
      "data = data.dropna()\n",
      "print(data.shape)"
     ],
     "language": "python",
     "metadata": {},
     "outputs": [
      {
       "output_type": "stream",
       "stream": "stdout",
       "text": [
        "(13190, 4)\n"
       ]
      }
     ],
     "prompt_number": 2
    },
    {
     "cell_type": "markdown",
     "metadata": {},
     "source": [
      "So far, we have 13.190 samples."
     ]
    },
    {
     "cell_type": "code",
     "collapsed": false,
     "input": [
      "#Create the dataframe with the required features\n",
      "df1 = pandas.DataFrame()\n",
      "df1['AGE'] = data['AGE']\n",
      "df1['HEIGHT'] = (data['S1Q24FT']*12 + data['S1Q24IN'] )* 2.54"
     ],
     "language": "python",
     "metadata": {},
     "outputs": [],
     "prompt_number": 3
    },
    {
     "cell_type": "markdown",
     "metadata": {},
     "source": [
      "### Detecting outliers ###"
     ]
    },
    {
     "cell_type": "code",
     "collapsed": false,
     "input": [
      "df1.describe()"
     ],
     "language": "python",
     "metadata": {},
     "outputs": [
      {
       "html": [
        "<div style=\"max-width:1500px;overflow:auto;\">\n",
        "<table border=\"1\" class=\"dataframe\">\n",
        "  <thead>\n",
        "    <tr style=\"text-align: right;\">\n",
        "      <th></th>\n",
        "      <th>AGE</th>\n",
        "      <th>HEIGHT</th>\n",
        "    </tr>\n",
        "  </thead>\n",
        "  <tbody>\n",
        "    <tr>\n",
        "      <th>count</th>\n",
        "      <td>13190.000000</td>\n",
        "      <td>13190.000000</td>\n",
        "    </tr>\n",
        "    <tr>\n",
        "      <th>mean</th>\n",
        "      <td>36.038817</td>\n",
        "      <td>221.337603</td>\n",
        "    </tr>\n",
        "    <tr>\n",
        "      <th>std</th>\n",
        "      <td>8.650123</td>\n",
        "      <td>388.738953</td>\n",
        "    </tr>\n",
        "    <tr>\n",
        "      <th>min</th>\n",
        "      <td>20.000000</td>\n",
        "      <td>132.080000</td>\n",
        "    </tr>\n",
        "    <tr>\n",
        "      <th>25%</th>\n",
        "      <td>29.000000</td>\n",
        "      <td>165.100000</td>\n",
        "    </tr>\n",
        "    <tr>\n",
        "      <th>50%</th>\n",
        "      <td>37.000000</td>\n",
        "      <td>172.720000</td>\n",
        "    </tr>\n",
        "    <tr>\n",
        "      <th>75%</th>\n",
        "      <td>43.000000</td>\n",
        "      <td>180.340000</td>\n",
        "    </tr>\n",
        "    <tr>\n",
        "      <th>max</th>\n",
        "      <td>50.000000</td>\n",
        "      <td>3268.980000</td>\n",
        "    </tr>\n",
        "  </tbody>\n",
        "</table>\n",
        "</div>"
       ],
       "metadata": {},
       "output_type": "pyout",
       "prompt_number": 4,
       "text": [
        "                AGE        HEIGHT\n",
        "count  13190.000000  13190.000000\n",
        "mean      36.038817    221.337603\n",
        "std        8.650123    388.738953\n",
        "min       20.000000    132.080000\n",
        "25%       29.000000    165.100000\n",
        "50%       37.000000    172.720000\n",
        "75%       43.000000    180.340000\n",
        "max       50.000000   3268.980000"
       ]
      }
     ],
     "prompt_number": 4
    },
    {
     "cell_type": "markdown",
     "metadata": {},
     "source": [
      "Obviously there are measurement errors (a person cannot be 32m height), lets say there is no person taller than 250 cm."
     ]
    },
    {
     "cell_type": "code",
     "collapsed": false,
     "input": [
      "df1 = df1[ df1['HEIGHT']<=250 ]\n",
      "print('Corrected Max height: {0}cm'.format(df1['HEIGHT'].max()))"
     ],
     "language": "python",
     "metadata": {},
     "outputs": [
      {
       "output_type": "stream",
       "stream": "stdout",
       "text": [
        "Corrected Max height: 213.36cm\n"
       ]
      }
     ],
     "prompt_number": 5
    },
    {
     "cell_type": "markdown",
     "metadata": {},
     "source": [
      "### Aggregating by year ###\n",
      "Now I compute the average height per year group."
     ]
    },
    {
     "cell_type": "code",
     "collapsed": false,
     "input": [
      "averages = df1.groupby('AGE', as_index=False).mean()\n",
      "sns.lmplot(x='AGE', y='HEIGHT', data=averages)"
     ],
     "language": "python",
     "metadata": {},
     "outputs": [
      {
       "metadata": {},
       "output_type": "pyout",
       "prompt_number": 9,
       "text": [
        "<seaborn.axisgrid.FacetGrid at 0x7f986b5b2990>"
       ]
      },
      {
       "metadata": {},
       "output_type": "display_data",
       "png": "[encoded data removed]",
       "text": [
        "<matplotlib.figure.Figure at 0x7f986b5b2190>"
       ]
      }
     ],
     "prompt_number": 9
    },
    {
     "cell_type": "markdown",
     "metadata": {},
     "source": [
      "A negative linear correlation can be seen in the plot, but... how significant is it?"
     ]
    },
    {
     "cell_type": "markdown",
     "metadata": {},
     "source": [
      "### Linear Correlation ###\n",
      "I calculate the pearson correlation between the age and the height."
     ]
    },
    {
     "cell_type": "code",
     "collapsed": false,
     "input": [
      "r,p = scipy.stats.pearsonr(averages['AGE'],averages['HEIGHT'])\n",
      "print('Correlation coefficient (r): {0}'.format(r))\n",
      "print('p-value: {0}'.format(p))"
     ],
     "language": "python",
     "metadata": {},
     "outputs": [
      {
       "output_type": "stream",
       "stream": "stdout",
       "text": [
        "Correlation coefficient (r): -0.32178210607\n",
        "p-value: 0.0775178076391\n"
       ]
      }
     ],
     "prompt_number": 7
    },
    {
     "cell_type": "markdown",
     "metadata": {},
     "source": [
      "There is a negative weak correlation and the p-value is bigger than 0.05 so it is safe to say that there is NO statistically significant linear correlation between the age and the height. The weak correlation means that it could happen by chance."
     ]
    }
   ],
   "metadata": {}
  }
 ]
}