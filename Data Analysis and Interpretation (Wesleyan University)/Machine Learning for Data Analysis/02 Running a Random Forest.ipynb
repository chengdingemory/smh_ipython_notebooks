{
 "metadata": {
  "name": "",
  "signature": "sha256:849fccd1470e7045fcc5a629ff6a24f9506dbe4c4483650c92391c0c9035cc93"
 },
 "nbformat": 3,
 "nbformat_minor": 0,
 "worksheets": [
  {
   "cells": [
    {
     "cell_type": "markdown",
     "metadata": {},
     "source": [
      "# Running a Random Forest\n",
      "\n",
      "`\n",
      "Author: Samuel M.H. <samuel.mh@gmail.com>\n",
      "Date: 04-03-2016\n",
      "`\n",
      "\n",
      "## Instructions\n",
      "\n",
      "The second assignment deals with Random Forests. Random forests are predictive models that allow for a data driven exploration of many explanatory variables in predicting a response or target variable. Random forests provide importance scores for each explanatory variable and also allow you to evaluate any increases in correct classification with the growing of smaller and larger number of trees.\n",
      "\n",
      "\n",
      "### Run a Random Forest.\n",
      "\n",
      "You will need to perform a random forest analysis to evaluate the importance of a series of explanatory variables in predicting a binary, categorical response variable.\n",
      "\n",
      "\n",
      "## What to Submit\n",
      "Following completion of the steps described above, create a blog entry where you submit syntax used to run a Random Forest (copied and pasted from your program) along with corresponding output and a few sentences of interpretation. Please note that your reviewers should NOT be required to download any files in order to complete the review.\n",
      "\n",
      "---\n"
     ]
    },
    {
     "cell_type": "markdown",
     "metadata": {},
     "source": [
      "## Intro\n",
      "This week I will look for nonlinear relationships in order to predict if a person works 35 or more hours a week. This will be done with a random forest model. The baseline for the accuracy is 0.73214948645 which was obtained in the previous assignment with a classification tree of depth 4.\n",
      "\n",
      "## Dataset\n",
      "* National Epidemiological Survey on Alcohol and Related Conditions (NESARC)\n",
      "* [CSV file](https://d396qusza40orc.cloudfront.net/phoenixassets/data-management-visualization/nesarc_pds.csv)\n",
      "* [File description](https://d396qusza40orc.cloudfront.net/phoenixassets/data-management-visualization/NESARC%20Wave%201%20Code%20Book%20w%20toc.pdf)\n",
      "\n",
      "### Variables\n",
      "* **Response**:\n",
      "    * WORK35 -> S1Q7A1: present situation includes working full time (35+ hours a week). Categorical yes/no.\n",
      "\n",
      "* **Explanatory**: \n",
      "    * AGE -> AGE: age (years).\n",
      "    * S1Q24LB -> WEIGHT: weight (pounds).\n",
      "    * NUMPERS -> HOUSE_PEOPLE: number of persons in household.\n",
      "    * ETHRACE2A -> RACE: imputed race/ethnicity (5 groups, reference group=1,white).\n",
      "    * SEX -> MALE: gender (2 groups).\n",
      "    * S10Q1A63 -> CHANGE_MIND: change mind about things depending on people you're with or what read or saw on tv (2 groups)."
     ]
    },
    {
     "cell_type": "code",
     "collapsed": false,
     "input": [
      "%pylab inline\n",
      "\n",
      "import numpy as np\n",
      "import pandas as pd\n",
      "\n",
      "from sklearn.cross_validation import train_test_split\n",
      "from sklearn.ensemble import RandomForestClassifier, ExtraTreesClassifier\n",
      "from sklearn.metrics import classification_report\n",
      "import sklearn.metrics\n",
      "\n",
      "#Visualization\n",
      "import seaborn as sns\n",
      "\n",
      "\n",
      "\n",
      "pylab.rcParams['figure.figsize'] = (15, 8)"
     ],
     "language": "python",
     "metadata": {},
     "outputs": [
      {
       "output_type": "stream",
       "stream": "stdout",
       "text": [
        "Populating the interactive namespace from numpy and matplotlib\n"
       ]
      }
     ],
     "prompt_number": 14
    },
    {
     "cell_type": "markdown",
     "metadata": {},
     "source": [
      "## Data"
     ]
    },
    {
     "cell_type": "code",
     "collapsed": false,
     "input": [
      "# Load data\n",
      "data = pd.read_csv('../datasets/NESARC/nesarc_pds.csv', usecols=['S1Q7A1','AGE','S1Q24LB','NUMPERS','ETHRACE2A','SEX','S10Q1A63'])"
     ],
     "language": "python",
     "metadata": {},
     "outputs": [],
     "prompt_number": 2
    },
    {
     "cell_type": "code",
     "collapsed": false,
     "input": [
      "# Custom dataframe\n",
      "df = pd.DataFrame()\n",
      "\n",
      "# Response variable\n",
      "df['WORK35'] = data['S1Q7A1'].replace(' ',np.NaN).replace('2','0').astype(float)\n",
      "\n",
      "# Explanatory variables\n",
      "df['AGE'] = data['AGE'].replace(' ',np.NaN).replace('98',np.NaN).astype(float)\n",
      "df['WEIGHT'] = data['S1Q24LB'].replace(' ',np.NaN).replace('999',np.NaN).astype(float)\n",
      "df['HOUSE_PEOPLE'] = data['NUMPERS'].replace(' ',np.NaN).astype(float)\n",
      "df['RACE'] = data['ETHRACE2A'].replace(' ',np.NaN).astype('category')\n",
      "df['MALE'] = data['SEX'].replace(' ',np.NaN).replace('2','0').astype('category')\n",
      "df['CHANGE_MIND'] = data['S10Q1A63'].replace(' ',np.NaN).replace('9',np.NaN).replace('2','0').astype('category')\n",
      "\n",
      "df = df.dropna()"
     ],
     "language": "python",
     "metadata": {},
     "outputs": [],
     "prompt_number": 15
    },
    {
     "cell_type": "markdown",
     "metadata": {},
     "source": [
      "**Note**: data summaries, counts and descriptions can be seen in the previous assingment."
     ]
    },
    {
     "cell_type": "markdown",
     "metadata": {},
     "source": [
      "### Split: train, test"
     ]
    },
    {
     "cell_type": "code",
     "collapsed": false,
     "input": [
      "TARGET = 'WORK35'\n",
      "PREDICTORS = list(df.columns)\n",
      "PREDICTORS.remove(TARGET)\n",
      "\n",
      "df_target = df[TARGET]\n",
      "df_predictors = df[PREDICTORS]\n",
      "\n",
      "train_target, test_target, train_predictors, test_predictors = train_test_split(df_target, df_predictors, test_size=0.4, random_state=42)\n",
      "\n",
      "print('Samples train: {0}'.format(len(train_target)))\n",
      "print('Samples test:  {0}'.format(len(test_target)))"
     ],
     "language": "python",
     "metadata": {},
     "outputs": [
      {
       "output_type": "stream",
       "stream": "stdout",
       "text": [
        "Samples train: 24242\n",
        "Samples test:  16162\n"
       ]
      }
     ],
     "prompt_number": 4
    },
    {
     "cell_type": "markdown",
     "metadata": {},
     "source": [
      "## Model"
     ]
    },
    {
     "cell_type": "code",
     "collapsed": false,
     "input": [
      "model1 = RandomForestClassifier(n_estimators=25)\n",
      "model1.fit(train_predictors, train_target)"
     ],
     "language": "python",
     "metadata": {},
     "outputs": [
      {
       "metadata": {},
       "output_type": "pyout",
       "prompt_number": 5,
       "text": [
        "RandomForestClassifier(bootstrap=True, class_weight=None, criterion='gini',\n",
        "            max_depth=None, max_features='auto', max_leaf_nodes=None,\n",
        "            min_samples_leaf=1, min_samples_split=2,\n",
        "            min_weight_fraction_leaf=0.0, n_estimators=25, n_jobs=1,\n",
        "            oob_score=False, random_state=None, verbose=0,\n",
        "            warm_start=False)"
       ]
      }
     ],
     "prompt_number": 5
    },
    {
     "cell_type": "markdown",
     "metadata": {},
     "source": [
      "###Metrics"
     ]
    },
    {
     "cell_type": "code",
     "collapsed": false,
     "input": [
      "predictions=model1.predict(test_predictors)\n",
      "\n",
      "print('Confusion matrix [[TP,FP],[FN, TN]]')\n",
      "print(sklearn.metrics.confusion_matrix(test_target,predictions))\n",
      "\n",
      "print('\\nAccuracy')\n",
      "print(sklearn.metrics.accuracy_score(test_target, predictions))"
     ],
     "language": "python",
     "metadata": {},
     "outputs": [
      {
       "output_type": "stream",
       "stream": "stdout",
       "text": [
        "Confusion matrix [[TP,FP],[FN, TN]]\n",
        "[[5098 2640]\n",
        " [2317 6107]]\n",
        "\n",
        "Accuracy\n",
        "0.693292909293\n"
       ]
      }
     ],
     "prompt_number": 6
    },
    {
     "cell_type": "markdown",
     "metadata": {},
     "source": [
      "The accuracy of this model is not as good as the baseline. Maybe the model is overfit due to the depth of the random forests. Lets test this hypothesis."
     ]
    },
    {
     "cell_type": "markdown",
     "metadata": {},
     "source": [
      "## Improving the model"
     ]
    },
    {
     "cell_type": "markdown",
     "metadata": {},
     "source": [
      "I am going to generate several models limiting the depth of the random trees from 1 to 20 nodes."
     ]
    },
    {
     "cell_type": "code",
     "collapsed": false,
     "input": [
      "#Results\n",
      "acc_train = {} #Accuracy on training dataset \n",
      "acc_test = {} #Acc on testing dataset\n",
      "\n",
      "for depth in xrange(1,20):\n",
      "    modeln = RandomForestClassifier(n_estimators=50, n_jobs=4, max_depth=depth)\n",
      "    modeln.fit(train_predictors, train_target)\n",
      "    acc_train[depth] = modeln.score(train_predictors,train_target)\n",
      "    predictions=modeln.predict(test_predictors)\n",
      "    acc_test[depth] = sklearn.metrics.accuracy_score(test_target, predictions)"
     ],
     "language": "python",
     "metadata": {},
     "outputs": [],
     "prompt_number": 7
    },
    {
     "cell_type": "code",
     "collapsed": false,
     "input": [
      "plt.xlabel('Tree depth')\n",
      "plt.ylabel('Accuracy')\n",
      "plt.title('Depth VS Accuracy with 50 estimators')\n",
      "plt.plot(acc_train.keys(),acc_train.values(),  marker=\"o\", label=\"Train\")\n",
      "plt.plot(acc_test.keys(),acc_test.values(),  marker=\"s\", label=\"Test\")\n",
      "plt.legend()\n",
      "plt.show()"
     ],
     "language": "python",
     "metadata": {},
     "outputs": [
      {
       "metadata": {},
       "output_type": "display_data",
       "png": "[encoded data removed]",
       "text": [
        "<matplotlib.figure.Figure at 0x7f80f1eb7f50>"
       ]
      }
     ],
     "prompt_number": 8
    },
    {
     "cell_type": "markdown",
     "metadata": {},
     "source": [
      "Measuring the accuracy of the model with the testing dataset, it is possible to see the accuracy increases with the tree depth reaching its maximum value at 10 and decreasing monotonically from this point. If this curve (green) is compared with the one obtained from the training dataset (blue), it is possible to see the original model was overfitted. "
     ]
    },
    {
     "cell_type": "markdown",
     "metadata": {},
     "source": [
      "###Metrics"
     ]
    },
    {
     "cell_type": "code",
     "collapsed": false,
     "input": [
      "model10 = RandomForestClassifier(n_estimators=50, n_jobs=4, max_depth=10)\n",
      "model10.fit(train_predictors, train_target)\n",
      "\n",
      "predictions=model10.predict(test_predictors)\n",
      "\n",
      "print('Confusion matrix [[TP,FP],[FN, TN]]')\n",
      "print(sklearn.metrics.confusion_matrix(test_target,predictions))\n",
      "\n",
      "print('\\nAccuracy')\n",
      "print(sklearn.metrics.accuracy_score(test_target, predictions))"
     ],
     "language": "python",
     "metadata": {},
     "outputs": [
      {
       "output_type": "stream",
       "stream": "stdout",
       "text": [
        "Confusion matrix [[TP,FP],[FN, TN]]\n",
        "[[4849 2889]\n",
        " [1289 7135]]\n",
        "\n",
        "Accuracy\n",
        "0.741492389556\n"
       ]
      }
     ],
     "prompt_number": 9
    },
    {
     "cell_type": "markdown",
     "metadata": {},
     "source": [
      "The accuracy is improved, it's even better than the baseline but it is possible to see there is a problem with the false positives."
     ]
    },
    {
     "cell_type": "markdown",
     "metadata": {},
     "source": [
      "### Features importance"
     ]
    },
    {
     "cell_type": "code",
     "collapsed": false,
     "input": [
      "#Chosen model\n",
      "sorted(zip(PREDICTORS,model10.feature_importances_),key=lambda x:x[1],reverse=True)"
     ],
     "language": "python",
     "metadata": {},
     "outputs": [
      {
       "metadata": {},
       "output_type": "pyout",
       "prompt_number": 10,
       "text": [
        "[('AGE', 0.70263154725375743),\n",
        " ('WEIGHT', 0.10337365584777715),\n",
        " ('MALE', 0.086455602023945227),\n",
        " ('HOUSE_PEOPLE', 0.071275426739257131),\n",
        " ('RACE', 0.027183899676646889),\n",
        " ('CHANGE_MIND', 0.0090798684586160285)]"
       ]
      }
     ],
     "prompt_number": 10
    },
    {
     "cell_type": "markdown",
     "metadata": {},
     "source": [
      "This features importance are provided by the model but they are not used in the course. In the single tree model, the age is the most important predictor followed by the sex. Lets try with other model to properly interpret this measure."
     ]
    },
    {
     "cell_type": "markdown",
     "metadata": {},
     "source": [
      "## Extra tree classifier"
     ]
    },
    {
     "cell_type": "code",
     "collapsed": false,
     "input": [
      "#With extra trees classifier\n",
      "model_feat = ExtraTreesClassifier(n_estimators=50, n_jobs=4, max_depth=10)\n",
      "model_feat.fit(train_predictors,train_target)"
     ],
     "language": "python",
     "metadata": {},
     "outputs": [
      {
       "metadata": {},
       "output_type": "pyout",
       "prompt_number": 11,
       "text": [
        "ExtraTreesClassifier(bootstrap=False, class_weight=None, criterion='gini',\n",
        "           max_depth=10, max_features='auto', max_leaf_nodes=None,\n",
        "           min_samples_leaf=1, min_samples_split=2,\n",
        "           min_weight_fraction_leaf=0.0, n_estimators=50, n_jobs=4,\n",
        "           oob_score=False, random_state=None, verbose=0, warm_start=False)"
       ]
      }
     ],
     "prompt_number": 11
    },
    {
     "cell_type": "markdown",
     "metadata": {},
     "source": [
      "### Metrics"
     ]
    },
    {
     "cell_type": "code",
     "collapsed": false,
     "input": [
      "predictions=model_feat.predict(test_predictors)\n",
      "\n",
      "print('Confusion matrix [[TP,FP],[FN, TN]]')\n",
      "print(sklearn.metrics.confusion_matrix(test_target,predictions))\n",
      "\n",
      "print('\\nAccuracy')\n",
      "print(sklearn.metrics.accuracy_score(test_target, predictions))"
     ],
     "language": "python",
     "metadata": {},
     "outputs": [
      {
       "output_type": "stream",
       "stream": "stdout",
       "text": [
        "Confusion matrix [[TP,FP],[FN, TN]]\n",
        "[[4863 2875]\n",
        " [1414 7010]]\n",
        "\n",
        "Accuracy\n",
        "0.73462442767\n"
       ]
      }
     ],
     "prompt_number": 12
    },
    {
     "cell_type": "markdown",
     "metadata": {},
     "source": [
      "### Features importance"
     ]
    },
    {
     "cell_type": "code",
     "collapsed": false,
     "input": [
      "sorted(zip(PREDICTORS,model_feat.feature_importances_),key=lambda x:x[1],reverse=True)"
     ],
     "language": "python",
     "metadata": {},
     "outputs": [
      {
       "metadata": {},
       "output_type": "pyout",
       "prompt_number": 13,
       "text": [
        "[('AGE', 0.72949165584031528),\n",
        " ('MALE', 0.14741349854526331),\n",
        " ('HOUSE_PEOPLE', 0.062456138576466778),\n",
        " ('WEIGHT', 0.032239073237816517),\n",
        " ('RACE', 0.021686475674321783),\n",
        " ('CHANGE_MIND', 0.0067131581258164427)]"
       ]
      }
     ],
     "prompt_number": 13
    },
    {
     "cell_type": "markdown",
     "metadata": {},
     "source": [
      "##Conclusion"
     ]
    },
    {
     "cell_type": "markdown",
     "metadata": {},
     "source": [
      "I have improved the base accuracy from the single tree model. No tree can be interpreted but the feature importance have been calculated and the age is the most relevant predictor followed by the sex, which corresponds with the conclusion extracted from the single tree model. The advantage of this method is that its generalization power is far superior because the variance reduction due to the processes of generating random trees.\n",
      "\n",
      "Although the good results it seems I've reached the maximum prediction accuracy a machine learning model can provide, in order to predict if a person has a full time job, I should add more predictors, but this assignment is focused on testing and evaluating algorithms, not on predicting anything."
     ]
    }
   ],
   "metadata": {}
  }
 ]
}